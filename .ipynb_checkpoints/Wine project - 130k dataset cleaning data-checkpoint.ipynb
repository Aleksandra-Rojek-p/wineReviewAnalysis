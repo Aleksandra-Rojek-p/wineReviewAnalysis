{
 "cells": [
  {
   "cell_type": "markdown",
   "metadata": {},
   "source": [
    "# Reading in the data"
   ]
  },
  {
   "cell_type": "code",
   "execution_count": 51,
   "metadata": {},
   "outputs": [
    {
     "name": "stdout",
     "output_type": "stream",
     "text": [
      "(129971, 14)\n"
     ]
    },
    {
     "data": {
      "text/html": [
       "<div>\n",
       "<style scoped>\n",
       "    .dataframe tbody tr th:only-of-type {\n",
       "        vertical-align: middle;\n",
       "    }\n",
       "\n",
       "    .dataframe tbody tr th {\n",
       "        vertical-align: top;\n",
       "    }\n",
       "\n",
       "    .dataframe thead th {\n",
       "        text-align: right;\n",
       "    }\n",
       "</style>\n",
       "<table border=\"1\" class=\"dataframe\">\n",
       "  <thead>\n",
       "    <tr style=\"text-align: right;\">\n",
       "      <th></th>\n",
       "      <th>country</th>\n",
       "      <th>description</th>\n",
       "      <th>designation</th>\n",
       "      <th>points</th>\n",
       "      <th>price</th>\n",
       "      <th>province</th>\n",
       "      <th>region_1</th>\n",
       "      <th>region_2</th>\n",
       "      <th>taster_name</th>\n",
       "      <th>taster_twitter_handle</th>\n",
       "      <th>title</th>\n",
       "      <th>variety</th>\n",
       "      <th>winery</th>\n",
       "      <th>description_len</th>\n",
       "    </tr>\n",
       "  </thead>\n",
       "  <tbody>\n",
       "    <tr>\n",
       "      <th>0</th>\n",
       "      <td>Italy</td>\n",
       "      <td>Aromas include tropical fruit, broom, brimston...</td>\n",
       "      <td>Vulkà Bianco</td>\n",
       "      <td>87</td>\n",
       "      <td>NaN</td>\n",
       "      <td>Sicily &amp; Sardinia</td>\n",
       "      <td>Etna</td>\n",
       "      <td>NaN</td>\n",
       "      <td>Kerin O’Keefe</td>\n",
       "      <td>#NAME?</td>\n",
       "      <td>Nicosia 2013 Vulkà Bianco  (Etna)</td>\n",
       "      <td>White Blend</td>\n",
       "      <td>Nicosia</td>\n",
       "      <td>172</td>\n",
       "    </tr>\n",
       "    <tr>\n",
       "      <th>1</th>\n",
       "      <td>Portugal</td>\n",
       "      <td>This is ripe and fruity, a wine that is smooth...</td>\n",
       "      <td>Avidagos</td>\n",
       "      <td>87</td>\n",
       "      <td>15.0</td>\n",
       "      <td>Douro</td>\n",
       "      <td>NaN</td>\n",
       "      <td>NaN</td>\n",
       "      <td>Roger Voss</td>\n",
       "      <td>#NAME?</td>\n",
       "      <td>Quinta dos Avidagos 2011 Avidagos Red (Douro)</td>\n",
       "      <td>Portuguese Red</td>\n",
       "      <td>Quinta dos Avidagos</td>\n",
       "      <td>227</td>\n",
       "    </tr>\n",
       "    <tr>\n",
       "      <th>2</th>\n",
       "      <td>US</td>\n",
       "      <td>Tart and snappy, the flavors of lime flesh and...</td>\n",
       "      <td>NaN</td>\n",
       "      <td>87</td>\n",
       "      <td>14.0</td>\n",
       "      <td>Oregon</td>\n",
       "      <td>Willamette Valley</td>\n",
       "      <td>Willamette Valley</td>\n",
       "      <td>Paul Gregutt</td>\n",
       "      <td>@paulgwine</td>\n",
       "      <td>Rainstorm 2013 Pinot Gris (Willamette Valley)</td>\n",
       "      <td>Pinot Gris</td>\n",
       "      <td>Rainstorm</td>\n",
       "      <td>186</td>\n",
       "    </tr>\n",
       "    <tr>\n",
       "      <th>3</th>\n",
       "      <td>US</td>\n",
       "      <td>Pineapple rind, lemon pith and orange blossom ...</td>\n",
       "      <td>Reserve Late Harvest</td>\n",
       "      <td>87</td>\n",
       "      <td>13.0</td>\n",
       "      <td>Michigan</td>\n",
       "      <td>Lake Michigan Shore</td>\n",
       "      <td>NaN</td>\n",
       "      <td>Alexander Peartree</td>\n",
       "      <td>NaN</td>\n",
       "      <td>St. Julian 2013 Reserve Late Harvest Riesling ...</td>\n",
       "      <td>Riesling</td>\n",
       "      <td>St. Julian</td>\n",
       "      <td>199</td>\n",
       "    </tr>\n",
       "    <tr>\n",
       "      <th>4</th>\n",
       "      <td>US</td>\n",
       "      <td>Much like the regular bottling from 2012, this...</td>\n",
       "      <td>Vintner's Reserve Wild Child Block</td>\n",
       "      <td>87</td>\n",
       "      <td>65.0</td>\n",
       "      <td>Oregon</td>\n",
       "      <td>Willamette Valley</td>\n",
       "      <td>Willamette Valley</td>\n",
       "      <td>Paul Gregutt</td>\n",
       "      <td>@paulgwine</td>\n",
       "      <td>Sweet Cheeks 2012 Vintner's Reserve Wild Child...</td>\n",
       "      <td>Pinot Noir</td>\n",
       "      <td>Sweet Cheeks</td>\n",
       "      <td>249</td>\n",
       "    </tr>\n",
       "  </tbody>\n",
       "</table>\n",
       "</div>"
      ],
      "text/plain": [
       "    country                                        description  \\\n",
       "0     Italy  Aromas include tropical fruit, broom, brimston...   \n",
       "1  Portugal  This is ripe and fruity, a wine that is smooth...   \n",
       "2        US  Tart and snappy, the flavors of lime flesh and...   \n",
       "3        US  Pineapple rind, lemon pith and orange blossom ...   \n",
       "4        US  Much like the regular bottling from 2012, this...   \n",
       "\n",
       "                          designation  points  price           province  \\\n",
       "0                        Vulkà Bianco      87    NaN  Sicily & Sardinia   \n",
       "1                            Avidagos      87   15.0              Douro   \n",
       "2                                 NaN      87   14.0             Oregon   \n",
       "3                Reserve Late Harvest      87   13.0           Michigan   \n",
       "4  Vintner's Reserve Wild Child Block      87   65.0             Oregon   \n",
       "\n",
       "              region_1           region_2         taster_name  \\\n",
       "0                 Etna                NaN       Kerin O’Keefe   \n",
       "1                  NaN                NaN          Roger Voss   \n",
       "2    Willamette Valley  Willamette Valley        Paul Gregutt   \n",
       "3  Lake Michigan Shore                NaN  Alexander Peartree   \n",
       "4    Willamette Valley  Willamette Valley        Paul Gregutt   \n",
       "\n",
       "  taster_twitter_handle                                              title  \\\n",
       "0                #NAME?                  Nicosia 2013 Vulkà Bianco  (Etna)   \n",
       "1                #NAME?      Quinta dos Avidagos 2011 Avidagos Red (Douro)   \n",
       "2           @paulgwine       Rainstorm 2013 Pinot Gris (Willamette Valley)   \n",
       "3                   NaN  St. Julian 2013 Reserve Late Harvest Riesling ...   \n",
       "4           @paulgwine   Sweet Cheeks 2012 Vintner's Reserve Wild Child...   \n",
       "\n",
       "          variety               winery  description_len  \n",
       "0     White Blend              Nicosia              172  \n",
       "1  Portuguese Red  Quinta dos Avidagos              227  \n",
       "2      Pinot Gris            Rainstorm              186  \n",
       "3        Riesling           St. Julian              199  \n",
       "4      Pinot Noir         Sweet Cheeks              249  "
      ]
     },
     "execution_count": 51,
     "metadata": {},
     "output_type": "execute_result"
    }
   ],
   "source": [
    "import numpy as np\n",
    "import pandas as pd\n",
    "import matplotlib.pyplot as plt\n",
    "%matplotlib inline\n",
    "\n",
    "df = pd.read_csv('winemag-data-130k-v2.csv') #read in second dataset\n",
    "\n",
    "df = df.drop([\"index\"], axis = 1) # drop index column\n",
    "\n",
    "#add column with a length of a description\n",
    "df[\"description_len\"] = df['description'].str.len()\n",
    "\n",
    "print(df.shape)\n",
    "df.head()"
   ]
  },
  {
   "cell_type": "markdown",
   "metadata": {},
   "source": [
    "# Data Exploration"
   ]
  },
  {
   "cell_type": "code",
   "execution_count": 52,
   "metadata": {},
   "outputs": [
    {
     "name": "stdout",
     "output_type": "stream",
     "text": [
      "Data shows that wines with higher score tend to also be mre expensive.\n"
     ]
    },
    {
     "data": {
      "image/png": "[encoded data removed]",
      "text/plain": [
       "<Figure size 432x288 with 1 Axes>"
      ]
     },
     "metadata": {},
     "output_type": "display_data"
    }
   ],
   "source": [
    "# Check if price of the wine increases with number of points given\n",
    "x = df.points[df.price <= 100]\n",
    "y = df.price[df.price <= 100]\n",
    "#plt.scatter(x, y, s=1, alpha=0.5)\n",
    "#plt.show()\n",
    "plt.hexbin(x, y, gridsize = 20);\n",
    "print(\"Data shows that wines with higher score tend to also be mre expensive.\")"
   ]
  },
  {
   "cell_type": "code",
   "execution_count": 53,
   "metadata": {},
   "outputs": [
    {
     "data": {
      "text/plain": [
       "Roger Voss            25514\n",
       "Michael Schachner     15134\n",
       "Kerin O’Keefe         10776\n",
       "Virginie Boone         9537\n",
       "Paul Gregutt           9532\n",
       "Matt Kettmann          6332\n",
       "Joe Czerwinski         5147\n",
       "Sean P. Sullivan       4966\n",
       "Anna Lee C. Iijima     4415\n",
       "Jim Gordon             4177\n",
       "Anne Krebiehl MW       3685\n",
       "Lauren Buzzeo          1835\n",
       "Susan Kostrzewa        1085\n",
       "Mike DeSimone           514\n",
       "Jeff Jenssen            491\n",
       "Alexander Peartree      415\n",
       "Carrie Dykes            139\n",
       "Fiona Adams              27\n",
       "Christina Pickard         6\n",
       "Name: taster_name, dtype: int64"
      ]
     },
     "execution_count": 53,
     "metadata": {},
     "output_type": "execute_result"
    }
   ],
   "source": [
    "# Check how many tasters are there\n",
    "df.taster_name.value_counts()"
   ]
  },
  {
   "cell_type": "code",
   "execution_count": 54,
   "metadata": {},
   "outputs": [
    {
     "data": {
      "text/plain": [
       "taster_name\n",
       "Anne Krebiehl MW      90.562551\n",
       "Matt Kettmann         90.008686\n",
       "Virginie Boone        89.213379\n",
       "Mike DeSimone         89.101167\n",
       "Paul Gregutt          89.082564\n",
       "Kerin O’Keefe         88.867947\n",
       "Sean P. Sullivan      88.755739\n",
       "Roger Voss            88.708003\n",
       "Jim Gordon            88.626287\n",
       "Joe Czerwinski        88.536235\n",
       "Anna Lee C. Iijima    88.415629\n",
       "Jeff Jenssen          88.319756\n",
       "Christina Pickard     87.833333\n",
       "Lauren Buzzeo         87.739510\n",
       "Michael Schachner     86.907493\n",
       "Fiona Adams           86.888889\n",
       "Susan Kostrzewa       86.609217\n",
       "Carrie Dykes          86.395683\n",
       "Alexander Peartree    85.855422\n",
       "Name: points, dtype: float64"
      ]
     },
     "execution_count": 54,
     "metadata": {},
     "output_type": "execute_result"
    }
   ],
   "source": [
    "#Check what's the mean score given by tasters\n",
    "df.groupby(['taster_name']).mean()['points'].sort_values(ascending=False)"
   ]
  },
  {
   "cell_type": "code",
   "execution_count": 55,
   "metadata": {},
   "outputs": [
    {
     "data": {
      "text/plain": [
       "variety\n",
       "Terrantez                     95.000000\n",
       "Tinta del Pais                95.000000\n",
       "Gelber Traminer               95.000000\n",
       "Bual                          94.142857\n",
       "Riesling-Chardonnay           94.000000\n",
       "Sercial                       94.000000\n",
       "Ramisco                       93.000000\n",
       "Garnacha-Cariñena             93.000000\n",
       "Blauburgunder                 93.000000\n",
       "Rosenmuskateller              92.500000\n",
       "Roviello                      92.500000\n",
       "Sirica                        92.500000\n",
       "Muscadelle                    92.500000\n",
       "Caprettone                    92.000000\n",
       "Chardonnay Weissburgunder     92.000000\n",
       "Kotsifali                     92.000000\n",
       "Centesimino                   92.000000\n",
       "Babosa Negro                  92.000000\n",
       "Vespaiolo                     92.000000\n",
       "Moscato di Noto               92.000000\n",
       "Torontel                      92.000000\n",
       "Sauvignon Blanc-Assyrtiko     92.000000\n",
       "Pignolo                       92.000000\n",
       "Tinta Negra Mole              92.000000\n",
       "Malbec-Cabernet               91.666667\n",
       "Chardonnay-Albariño           91.500000\n",
       "Syrah-Petit Verdot            91.333333\n",
       "Loin de l'Oeil                91.333333\n",
       "Sämling                       91.200000\n",
       "Picolit                       91.111111\n",
       "                                ...    \n",
       "Cayuga                        84.500000\n",
       "Seyval Blanc                  84.187500\n",
       "Viognier-Valdiguié            84.000000\n",
       "Doña Blanca                   84.000000\n",
       "Siegerrebe                    84.000000\n",
       "Cabernet Sauvignon-Barbera    84.000000\n",
       "Norton                        84.000000\n",
       "Pinotage-Merlot               84.000000\n",
       "Verdosilla                    84.000000\n",
       "Bobal-Cabernet Sauvignon      84.000000\n",
       "Espadeiro                     84.000000\n",
       "Pigato                        84.000000\n",
       "Kinali Yapincak               84.000000\n",
       "Asprinio                      84.000000\n",
       "Brachetto                     83.800000\n",
       "Chambourcin                   83.722222\n",
       "Tempranillo Blanco            83.666667\n",
       "Paralleda                     83.000000\n",
       "Athiri                        83.000000\n",
       "Forcallà                      83.000000\n",
       "Merlot-Petite Verdot          83.000000\n",
       "País                          83.000000\n",
       "Chardonel                     83.000000\n",
       "Premsal                       83.000000\n",
       "Gragnano                      82.500000\n",
       "Picapoll                      82.000000\n",
       "Aidani                        82.000000\n",
       "Shiraz-Tempranillo            82.000000\n",
       "Airen                         81.666667\n",
       "Chancellor                    80.500000\n",
       "Name: points, Length: 707, dtype: float64"
      ]
     },
     "execution_count": 55,
     "metadata": {},
     "output_type": "execute_result"
    }
   ],
   "source": [
    "#Check what's the mean score for different varieties \n",
    "df.groupby(['variety']).mean()['points'].sort_values(ascending=False)"
   ]
  },
  {
   "cell_type": "code",
   "execution_count": null,
   "metadata": {},
   "outputs": [],
   "source": []
  },
  {
   "cell_type": "code",
   "execution_count": null,
   "metadata": {},
   "outputs": [],
   "source": []
  },
  {
   "cell_type": "markdown",
   "metadata": {},
   "source": [
    "# Cleaning the data"
   ]
  },
  {
   "cell_type": "markdown",
   "metadata": {},
   "source": [
    "#### 1. Dropping duplicate rows"
   ]
  },
  {
   "cell_type": "code",
   "execution_count": 56,
   "metadata": {},
   "outputs": [
    {
     "name": "stdout",
     "output_type": "stream",
     "text": [
      "There are  9983  duplicate rows.\n",
      "The shape of the dataset after removing the duplicate rows is:  (119988, 14)\n"
     ]
    }
   ],
   "source": [
    "# drop any duplicate rows\n",
    "print(\"There are \", df.duplicated(subset=None, keep='first').sum(), \" duplicate rows.\")\n",
    "df.drop_duplicates(subset = list(df.columns), keep=\"first\", inplace=True)\n",
    "df = df.reset_index(drop=True) # reset the indexing\n",
    "print(\"The shape of the dataset after removing the duplicate rows is: \", df.shape)"
   ]
  },
  {
   "cell_type": "markdown",
   "metadata": {},
   "source": [
    "#### 2. Imputing missing values"
   ]
  },
  {
   "cell_type": "code",
   "execution_count": 57,
   "metadata": {},
   "outputs": [
    {
     "name": "stdout",
     "output_type": "stream",
     "text": [
      "Columns with no missing values: {'title', 'points', 'description_len', 'description', 'winery'}\n"
     ]
    }
   ],
   "source": [
    "#Provide a set of columns with 0 missing values.\n",
    "no_nulls = set(df.columns[df.isnull().mean()==0]) \n",
    "print(\"Columns with no missing values:\",no_nulls)"
   ]
  },
  {
   "cell_type": "code",
   "execution_count": 58,
   "metadata": {},
   "outputs": [
    {
     "name": "stdout",
     "output_type": "stream",
     "text": [
      "Column country has  59  missing values.\n",
      "Column variety has  1  missing values.\n",
      "Column price has  8395  missing values.\n",
      "Column taster_name has  24917  missing values.\n",
      "Column winery has  0  missing values.\n"
     ]
    }
   ],
   "source": [
    "#Check how many missing values we have in other columns\n",
    "print(\"Column country has \", df[pd.isnull(df[\"country\"])].shape[0], \" missing values.\")\n",
    "print(\"Column variety has \", df[pd.isnull(df[\"variety\"])].shape[0], \" missing values.\") \n",
    "print(\"Column price has \", df[pd.isnull(df[\"price\"])].shape[0], \" missing values.\")\n",
    "print(\"Column taster_name has \", df[pd.isnull(df[\"taster_name\"])].shape[0], \" missing values.\")\n",
    "print(\"Column winery has \", df[pd.isnull(df[\"winery\"])].shape[0], \" missing values.\")\n",
    "# we will be comfortable dropping rows with missing values for country or variaty due to low volumes\n",
    "\n",
    "# we will fill the missing values for price with median for the given points range"
   ]
  },
  {
   "cell_type": "code",
   "execution_count": 59,
   "metadata": {},
   "outputs": [
    {
     "data": {
      "text/plain": [
       "[85,90)     62310\n",
       "[90,95)     43198\n",
       "[80,85)     12088\n",
       "[95,100]     2392\n",
       "Name: points_range, dtype: int64"
      ]
     },
     "execution_count": 59,
     "metadata": {},
     "output_type": "execute_result"
    }
   ],
   "source": [
    "def points_bands(points):\n",
    "    '''\n",
    "    This function defines what points range does wine qualify\n",
    "    The input is a single value (number of points)\n",
    "    The ouput is a string (defined points range)\n",
    "    '''\n",
    "    \n",
    "    if (points >=80) & (points <85):\n",
    "        return (\"[80,85)\")\n",
    "    elif (points >=85) & (points <90):\n",
    "        return (\"[85,90)\")\n",
    "    elif (points >=90) & (points <95):\n",
    "        return (\"[90,95)\")\n",
    "    elif (points >=95) & (points <=100):\n",
    "        return (\"[95,100]\")\n",
    "\n",
    "#apply the function to the points column \n",
    "df[\"points_range\"] = df.points.apply(points_bands)\n",
    "df.points_range.value_counts()"
   ]
  },
  {
   "cell_type": "code",
   "execution_count": 60,
   "metadata": {},
   "outputs": [
    {
     "data": {
      "text/plain": [
       "(0, 15)"
      ]
     },
     "execution_count": 60,
     "metadata": {},
     "output_type": "execute_result"
    }
   ],
   "source": [
    "#fill in missing values in price based on the points range\n",
    "\n",
    "df.price[df.points_range == \"[95,100]\"].median() #85\n",
    "df.price[df.points_range == \"[90,95)\"].median() #40\n",
    "df.price[df.points_range == \"[85,90)\"].median() #20\n",
    "df.price[df.points_range == \"[80,85)\"].median() #15\n",
    "\n",
    "# define conditions and values\n",
    "conditions = [df['points_range'] == \"[95,100]\", df['points_range'] == \"[90,95)\", \n",
    "              df['points_range'] == \"[85,90)\", df['points_range'] == \"[80,85)\"]\n",
    "values = [82, 40, 20, 15]\n",
    "\n",
    "# apply logic where price is null\n",
    "df['price'] = np.where(df['price'].isnull(),\n",
    "                              np.select(conditions, values),\n",
    "                              df['price'])\n",
    "        \n",
    "#check if all missing values have been filled\n",
    "df[pd.isnull(df[\"price\"])].shape"
   ]
  },
  {
   "cell_type": "code",
   "execution_count": 61,
   "metadata": {},
   "outputs": [
    {
     "data": {
      "text/plain": [
       "[20,40)      46816\n",
       "[0,20)       36988\n",
       "[40,60)      21440\n",
       "[60,100)     10959\n",
       "[100,500)     3681\n",
       "[500+]         104\n",
       "Name: price_range, dtype: int64"
      ]
     },
     "execution_count": 61,
     "metadata": {},
     "output_type": "execute_result"
    }
   ],
   "source": [
    "def price_bands(price):\n",
    "    '''\n",
    "    This function defines what points range does wine qualify\n",
    "    The input is a single value (number of points)\n",
    "    The ouput is a string (defined points range)\n",
    "    '''\n",
    "    \n",
    "    if (price <20):\n",
    "        return (\"[0,20)\")\n",
    "    elif ((price >=20) & (price <40)):\n",
    "        return (\"[20,40)\")\n",
    "    elif ((price >=40) & (price <60)):\n",
    "        return (\"[40,60)\")\n",
    "    elif ((price >=60) & (price <100)):\n",
    "        return (\"[60,100)\")\n",
    "    elif ((price >=100) & (price <500)):\n",
    "        return (\"[100,500)\")\n",
    "    elif (price >=500):\n",
    "        return (\"[500+]\")\n",
    "\n",
    "df[\"price_range\"] = df.price.apply(price_bands)\n",
    "df.price_range.value_counts()"
   ]
  },
  {
   "cell_type": "code",
   "execution_count": 63,
   "metadata": {},
   "outputs": [
    {
     "data": {
      "text/plain": [
       "2012    14360\n",
       "2013    14326\n",
       "2014    13998\n",
       "2011    11548\n",
       "2010    11288\n",
       "2009     9279\n",
       "2015     8969\n",
       "2008     7020\n",
       "2007     6733\n",
       "2006     5566\n",
       "0        4285\n",
       "2005     3485\n",
       "2016     3310\n",
       "2004     1714\n",
       "2000      752\n",
       "2001      684\n",
       "1999      639\n",
       "2003      574\n",
       "1998      550\n",
       "2002      358\n",
       "1997      302\n",
       "1996       67\n",
       "1995       50\n",
       "1994       23\n",
       "1992       16\n",
       "2017       11\n",
       "1912        7\n",
       "1929        6\n",
       "1989        6\n",
       "1988        5\n",
       "        ...  \n",
       "1985        4\n",
       "1993        3\n",
       "1963        3\n",
       "1986        3\n",
       "1927        2\n",
       "1987        2\n",
       "1984        2\n",
       "1983        2\n",
       "1966        2\n",
       "1964        2\n",
       "1980        2\n",
       "1978        2\n",
       "1952        2\n",
       "1967        1\n",
       "1973        1\n",
       "1965        1\n",
       "1961        1\n",
       "1957        1\n",
       "1968        1\n",
       "1969        1\n",
       "1974        1\n",
       "1941        1\n",
       "1947        1\n",
       "1976        1\n",
       "1945        1\n",
       "1919        1\n",
       "1934        1\n",
       "1982        1\n",
       "1935        1\n",
       "1904        1\n",
       "Name: vintage, Length: 62, dtype: int64"
      ]
     },
     "execution_count": 63,
     "metadata": {},
     "output_type": "execute_result"
    }
   ],
   "source": [
    "import re\n",
    "\n",
    "def get_vintage (title):\n",
    "    '''\n",
    "    Function to extract vintage from the wine title using regular expressions.\n",
    "    The input is a single string (a title).\n",
    "    The output is a single string: vintage or '0' if no vintage could be obtained.\n",
    "    '''\n",
    "    regexresult = re.search(r'19\\d{2}|20\\d{2}', title)\n",
    "    \n",
    "    if regexresult:\n",
    "        return(int(regexresult.group(0)))\n",
    "    else: \n",
    "        return(int(0))\n",
    "    \n",
    "df[\"vintage\"] = df[\"title\"].apply(get_vintage)\n",
    "df.vintage.value_counts()"
   ]
  },
  {
   "cell_type": "code",
   "execution_count": 66,
   "metadata": {},
   "outputs": [
    {
     "data": {
      "image/png": "[encoded data removed]",
      "text/plain": [
       "<Figure size 432x288 with 1 Axes>"
      ]
     },
     "metadata": {},
     "output_type": "display_data"
    },
    {
     "name": "stdout",
     "output_type": "stream",
     "text": [
      "Data indicates that price of the wine might be associated with it's vinatge.\n"
     ]
    }
   ],
   "source": [
    "# Check if price of the wine increases with number of points given\n",
    "x = df.vintage[((df.price <= 1500) & (df.vintage != 0))]\n",
    "y = df.price[((df.price <= 1500) & (df.vintage != 0))]\n",
    "plt.scatter(x, y, s=1, alpha=0.5)\n",
    "plt.show()\n",
    "print(\"Data indicates that price of the wine might be associated with it's vinatge.\")"
   ]
  },
  {
   "cell_type": "code",
   "execution_count": 67,
   "metadata": {},
   "outputs": [
    {
     "data": {
      "text/html": [
       "<div>\n",
       "<style scoped>\n",
       "    .dataframe tbody tr th:only-of-type {\n",
       "        vertical-align: middle;\n",
       "    }\n",
       "\n",
       "    .dataframe tbody tr th {\n",
       "        vertical-align: top;\n",
       "    }\n",
       "\n",
       "    .dataframe thead th {\n",
       "        text-align: right;\n",
       "    }\n",
       "</style>\n",
       "<table border=\"1\" class=\"dataframe\">\n",
       "  <thead>\n",
       "    <tr style=\"text-align: right;\">\n",
       "      <th></th>\n",
       "      <th>country</th>\n",
       "      <th>description</th>\n",
       "      <th>designation</th>\n",
       "      <th>points</th>\n",
       "      <th>price</th>\n",
       "      <th>province</th>\n",
       "      <th>region_1</th>\n",
       "      <th>region_2</th>\n",
       "      <th>taster_name</th>\n",
       "      <th>taster_twitter_handle</th>\n",
       "      <th>title</th>\n",
       "      <th>variety</th>\n",
       "      <th>winery</th>\n",
       "      <th>description_len</th>\n",
       "      <th>points_range</th>\n",
       "      <th>price_range</th>\n",
       "      <th>vintage</th>\n",
       "    </tr>\n",
       "  </thead>\n",
       "  <tbody>\n",
       "  </tbody>\n",
       "</table>\n",
       "</div>"
      ],
      "text/plain": [
       "Empty DataFrame\n",
       "Columns: [country, description, designation, points, price, province, region_1, region_2, taster_name, taster_twitter_handle, title, variety, winery, description_len, points_range, price_range, vintage]\n",
       "Index: []"
      ]
     },
     "execution_count": 67,
     "metadata": {},
     "output_type": "execute_result"
    }
   ],
   "source": [
    "#Fill in  missing values in vintage column by finding most common vintage for given price range\n",
    "\n",
    "# Program to find most frequent element in a list \n",
    "from collections import Counter \n",
    "  \n",
    "def most_frequent(List): \n",
    "    occurence_count = Counter(List) \n",
    "    return occurence_count.most_common(1)[0][0] \n",
    "\n",
    "most_frequent(df.vintage[(df.price_range == \"[0,20)\") & (df.vintage != 0)]) #2014\n",
    "most_frequent(df.vintage[(df.price_range == \"[20,40)\") & (df.vintage != 0)]) #2013\n",
    "most_frequent(df.vintage[(df.price_range == \"[40,60)\") & (df.vintage != 0)]) #2012\n",
    "most_frequent(df.vintage[(df.price_range == \"[60,100)\") & (df.vintage != 0)]) #2012\n",
    "most_frequent(df.vintage[(df.price_range == \"[100,500)\") & (df.vintage != 0)]) #2012\n",
    "most_frequent(df.vintage[(df.price_range == \"[500+]\") & (df.vintage != 0)]) #2014\n",
    "\n",
    "# define conditions and values\n",
    "conditions = [df['price_range'] == \"[0,20)\", df['price_range'] == \"[20,40)\", \n",
    "              df['price_range'] == \"[40,60)\", df['price_range'] == \"[60,100)\",\n",
    "              df['price_range'] == \"[100,500)\", df['price_range'] == \"[500+]\"]\n",
    "values = [2014, 2013, 2012, 2012, 2012, 2014]\n",
    "\n",
    "# apply logic where vintage is null\n",
    "df['vintage'] = np.where(df['vintage'] == 0,\n",
    "                              np.select(conditions, values),\n",
    "                              df['vintage'])\n",
    "\n",
    "#check if all missing values have been filled\n",
    "df[df.vintage == 0]"
   ]
  },
  {
   "cell_type": "markdown",
   "metadata": {},
   "source": [
    "#### 3. Removing rows with missing values"
   ]
  },
  {
   "cell_type": "code",
   "execution_count": 68,
   "metadata": {},
   "outputs": [
    {
     "name": "stdout",
     "output_type": "stream",
     "text": [
      "Columns that can be used for model building are:  {'price', 'title', 'points_range', 'points', 'variety', 'country', 'description_len', 'description', 'province', 'vintage', 'winery', 'price_range'}\n"
     ]
    }
   ],
   "source": [
    "# drop rows with issing values in column country or variety\n",
    "df = df.dropna(subset = [\"country\", \"variety\"]) # dropping 54 observations\n",
    "\n",
    "# Provide a set of columns with 0 missing values after cleaning the data.\n",
    "no_nulls = set(df.columns[df.isnull().mean()==0]) \n",
    "print(\"Columns that can be used for model building are: \",no_nulls)"
   ]
  },
  {
   "cell_type": "code",
   "execution_count": 69,
   "metadata": {},
   "outputs": [
    {
     "name": "stdout",
     "output_type": "stream",
     "text": [
      "Stored 'df' (DataFrame)\n"
     ]
    }
   ],
   "source": [
    "%store df"
   ]
  }
 ],
 "metadata": {
  "kernelspec": {
   "display_name": "Python 3",
   "language": "python",
   "name": "python3"
  },
  "language_info": {
   "codemirror_mode": {
    "name": "ipython",
    "version": 3
   },
   "file_extension": ".py",
   "mimetype": "text/x-python",
   "name": "python",
   "nbconvert_exporter": "python",
   "pygments_lexer": "ipython3",
   "version": "3.6.5"
  }
 },
 "nbformat": 4,
 "nbformat_minor": 4
}
